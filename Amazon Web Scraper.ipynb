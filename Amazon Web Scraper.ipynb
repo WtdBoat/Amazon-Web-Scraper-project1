{
 "cells": [
  {
   "cell_type": "code",
   "execution_count": null,
   "id": "6ce61e32-e3c6-4f7c-8246-f74409137f62",
   "metadata": {},
   "outputs": [],
   "source": [
    "# import libraries"
   ]
  },
  {
   "cell_type": "code",
   "execution_count": 13,
   "id": "c61851f4-9fef-4e43-96a3-f0581ebb17f5",
   "metadata": {},
   "outputs": [],
   "source": [
    "from bs4 import BeautifulSoup\n",
    "import requests \n",
    "import smtplib\n",
    "import time \n",
    "import datetime"
   ]
  },
  {
   "cell_type": "code",
   "execution_count": 55,
   "id": "0d1aa515-5344-4a26-8122-485c91cc4057",
   "metadata": {},
   "outputs": [
    {
     "name": "stdout",
     "output_type": "stream",
     "text": [
      "Product Title:  Kasa Smart Light Switch HS200, Single Pole, Needs Neutral Wire, 2.4GHz Wi-Fi Light Switch Works with Alexa and Google Home, UL Certified, No Hub Required , White, HS200\n",
      "Full Price:  14.99\n",
      "Is Valid Price:  True\n"
     ]
    }
   ],
   "source": [
    "import requests\n",
    "from bs4 import BeautifulSoup\n",
    "\n",
    "# Connect to Website and pull in data\n",
    "URL = \"https://www.amazon.com/Switch-HS200-Neutral-Certified-Required/dp/B01EZV35QU/ref=lp_21217035011_1_1?pf_rd_p=53d84f87-8073-4df1-9740-1bf3fa798149&pf_rd_r=8WRDWGCBBG65CMTPVH39&sbo=RZvfv%2F%2FHxDF%2BO5021pAnSA%3D%3D&th=1\"\n",
    "\n",
    "# Setting up headers to make the request look like it's from a browser\n",
    "headers = {\n",
    "    \"User-Agent\": \"Mozilla/5.0 (Windows NT 10.0; Win64; x64; rv:131.0) Gecko/20100101 Firefox/131.0\",\n",
    "    \"Accept-Encoding\": \"gzip, deflate\",\n",
    "    \"Accept\": \"text/html,application/xhtml+xml,application/xml;q=0.9,*/*;q=0.8\",\n",
    "    \"DNT\": \"1\",\n",
    "    \"Connection\": \"close\",\n",
    "    \"Upgrade-Insecure-Requests\": \"1\"\n",
    "}\n",
    "\n",
    "# Make the request to the website\n",
    "page = requests.get(URL, headers=headers)\n",
    "\n",
    "# Check if request was successful\n",
    "if page.status_code == 200:\n",
    "    # Parse the page content using BeautifulSoup\n",
    "    soup1 = BeautifulSoup(page.content, \"html.parser\")\n",
    "    \n",
    "    # Extract the product title\n",
    "    title_element = soup1.find(id='productTitle')\n",
    "    title = title_element.get_text().strip() if title_element else None  # Safely get title or None\n",
    "\n",
    "    if title:\n",
    "        print(\"Product Title: \", title)\n",
    "    else:\n",
    "        print(\"Product title not found.\")\n",
    "\n",
    "    # Extract the price information (whole and fractional parts)\n",
    "    whole_price = soup1.find('span', class_='a-price-whole')\n",
    "    fraction_price = soup1.find('span', class_='a-price-fraction')\n",
    "\n",
    "    if whole_price and fraction_price:\n",
    "        # Clean the prices and concatenate\n",
    "        whole_price_cleaned = whole_price.get_text().strip().replace(\"\\n\", \"\").replace(\",\", \"\")\n",
    "        fraction_price_cleaned = fraction_price.get_text().strip().replace(\"\\n\", \"\").replace(\" \", \"\")\n",
    "        \n",
    "        # Combine parts into a single price string\n",
    "        full_price = whole_price_cleaned + fraction_price_cleaned\n",
    "        \n",
    "        # Ensure there are no spaces before the decimal point\n",
    "        full_price = full_price.replace(\" .\", \".\")\n",
    "        \n",
    "        # Convert to boolean: Check if the price string is valid (not empty)\n",
    "        is_valid_price = bool(full_price)\n",
    "        \n",
    "        print(\"Full Price: \", full_price)\n",
    "        print(\"Is Valid Price: \", is_valid_price)  # Should print True if the price is valid\n",
    "    else:\n",
    "        print(\"Price not found.\")\n",
    "else:\n",
    "    print(f\"Failed to retrieve the page. Status code: {page.status_code}\")"
   ]
  },
  {
   "cell_type": "code",
   "execution_count": 56,
   "id": "741a0191-7fc8-4a73-ba62-159f22e0f003",
   "metadata": {
    "scrolled": true
   },
   "outputs": [
    {
     "name": "stdout",
     "output_type": "stream",
     "text": [
      "Kasa Smart Light Switch HS200, Single Pole, Needs Neutral Wire, 2.4GHz Wi-Fi Light Switch Works with Alexa and Google Home, UL Certified, No Hub Required , White, HS200\n",
      "4.99\n"
     ]
    }
   ],
   "source": [
    "# Clean up the data a little bit\n",
    "\n",
    "full_price = full_price.strip()[1:]\n",
    "title = title.strip()\n",
    "\n",
    "print(title)\n",
    "print(full_price)"
   ]
  },
  {
   "cell_type": "code",
   "execution_count": 57,
   "id": "e7aae95f-1d15-4bef-a1f9-a9eda1148670",
   "metadata": {},
   "outputs": [],
   "source": [
    "title = \"Kasa Smart Light Switch HS200, Single Pole, Needs Neutral Wire\""
   ]
  },
  {
   "cell_type": "code",
   "execution_count": 60,
   "id": "f2fd6ba3-d8e5-4d53-9ec5-7101a792b17b",
   "metadata": {
    "scrolled": true
   },
   "outputs": [
    {
     "data": {
      "text/plain": [
       "'4.99'"
      ]
     },
     "execution_count": 60,
     "metadata": {},
     "output_type": "execute_result"
    }
   ],
   "source": [
    "full_price"
   ]
  },
  {
   "cell_type": "code",
   "execution_count": 63,
   "id": "bc029deb-aa58-449a-bc39-e459fb3e5647",
   "metadata": {},
   "outputs": [
    {
     "name": "stdout",
     "output_type": "stream",
     "text": [
      "2024-10-01\n"
     ]
    }
   ],
   "source": [
    "import datetime\n",
    "today = datetime.date.today()\n",
    "print(today)"
   ]
  },
  {
   "cell_type": "code",
   "execution_count": 66,
   "id": "efbaa1c7-37cc-4f10-b229-861dfadd915b",
   "metadata": {
    "scrolled": true
   },
   "outputs": [],
   "source": [
    "import csv\n",
    "header = [\"Title\", \"Full Price\",\"Date\"]\n",
    "data = [title, full_price, today]\n",
    "\n",
    "#with open(\"AWSDataset.csv\", \"w\", newline=\"\", encoding=\"UTF-8\") as f:\n",
    "    #writer = csv.writer(f)\n",
    "    #writer.writerow(header)\n",
    "    #writer.writerow(data)"
   ]
  },
  {
   "cell_type": "code",
   "execution_count": 74,
   "id": "0ec4121c-b45e-4405-93da-a4a06f8b6e99",
   "metadata": {},
   "outputs": [
    {
     "name": "stdout",
     "output_type": "stream",
     "text": [
      "                                               Title  Full Price        Date\n",
      "0  Kasa Smart Light Switch HS200, Single Pole, Ne...        4.99  2024-10-01\n",
      "1  Kasa Smart Light Switch HS200, Single Pole, Ne...        4.99  2024-10-01\n",
      "2  Kasa Smart Light Switch HS200, Single Pole, Ne...        4.99  2024-10-01\n",
      "3  Kasa Smart Light Switch HS200, Single Pole, Ne...        4.99  2024-10-01\n"
     ]
    }
   ],
   "source": [
    "import pandas as pd\n",
    "\n",
    "df= pd.read_csv(\"AWSDataset.csv\")\n",
    "print(df)"
   ]
  },
  {
   "cell_type": "code",
   "execution_count": 73,
   "id": "7e8f5dc7-481f-4e63-a4c3-3370086c5152",
   "metadata": {},
   "outputs": [],
   "source": [
    "#Now we are apending data to the csv\n",
    "with open(\"AWSDataset.csv\", \"a+\", newline=\"\", encoding=\"UTF-8\") as f:\n",
    "    writer = csv.writer(f)\n",
    "    writer.writerow(data)"
   ]
  },
  {
   "cell_type": "code",
   "execution_count": 92,
   "id": "0c27d5b8-29a0-4d77-a78e-314945a5066f",
   "metadata": {
    "scrolled": true
   },
   "outputs": [
    {
     "name": "stdout",
     "output_type": "stream",
     "text": [
      "Short Product Title:  Kasa Smart Light Switch HS200, Single Pole, Needs ...\n",
      "Full Price:  14.99\n"
     ]
    }
   ],
   "source": [
    "import requests\n",
    "from bs4 import BeautifulSoup\n",
    "import csv\n",
    "import datetime\n",
    "\n",
    "def check_price():\n",
    "    URL = \"https://www.amazon.com/Switch-HS200-Neutral-Certified-Required/dp/B01EZV35QU/ref=lp_21217035011_1_1?pf_rd_p=53d84f87-8073-4df1-9740-1bf3fa798149&pf_rd_r=8WRDWGCBBG65CMTPVH39&sbo=RZvfv%2F%2FHxDF%2BO5021pAnSA%3D%3D&th=1\"\n",
    "\n",
    "    headers = {\n",
    "        \"User-Agent\": \"Mozilla/5.0 (Windows NT 10.0; Win64; x64; rv:131.0) Gecko/20100101 Firefox/131.0\",\n",
    "        \"Accept-Encoding\": \"gzip, deflate\",\n",
    "        \"Accept\": \"text/html,application/xhtml+xml,application/xml;q=0.9,*/*;q=0.8\",\n",
    "        \"DNT\": \"1\",\n",
    "        \"Connection\": \"close\",\n",
    "        \"Upgrade-Insecure-Requests\": \"1\"\n",
    "    }\n",
    "\n",
    "    # Send the GET request to the page\n",
    "    page = requests.get(URL, headers=headers)\n",
    "\n",
    "    # Check if the request was successful\n",
    "    if page.status_code == 200:\n",
    "        soup1 = BeautifulSoup(page.content, \"html.parser\")\n",
    "\n",
    "        # Extract the product title\n",
    "        title_element = soup1.find(id='productTitle')\n",
    "        title = title_element.get_text().strip() if title_element else None  # Safely get title or None\n",
    "\n",
    "        if title:\n",
    "            # Shorten the product title (manual edit or using slicing)\n",
    "            title = title[:50] + \"...\" if len(title) > 50 else title  # Limit title to 50 characters\n",
    "            print(\"Short Product Title: \", title)\n",
    "        else:\n",
    "            print(\"Product title not found.\")\n",
    "            return  # If title not found, exit the function\n",
    "\n",
    "        # Extract price information (whole and fractional parts)\n",
    "        whole_price = soup1.find('span', class_='a-price-whole')\n",
    "        fraction_price = soup1.find('span', class_='a-price-fraction')\n",
    "\n",
    "        if whole_price and fraction_price:\n",
    "            # Clean and combine price parts\n",
    "            whole_price_cleaned = whole_price.get_text().strip().replace(\"\\n\", \"\").replace(\",\", \"\")\n",
    "            fraction_price_cleaned = fraction_price.get_text().strip().replace(\"\\n\", \"\").replace(\" \", \"\")\n",
    "            full_price = whole_price_cleaned + \"\" + fraction_price_cleaned\n",
    "\n",
    "            print(\"Full Price: \", full_price)\n",
    "        else:\n",
    "            print(\"Price not found.\")\n",
    "            return  # Exit the function if the price is not found\n",
    "\n",
    "        # Get today's date\n",
    "        today = datetime.date.today()\n",
    "\n",
    "        # Prepare data for the CSV file\n",
    "        header = [\"Title\", \"Full Price\", \"Date\"]\n",
    "        data = [title, full_price, today]\n",
    "\n",
    "        # Write to a CSV file\n",
    "        with open(\"AWSDataset.csv\", \"w\", newline=\"\", encoding=\"UTF-8\") as f:\n",
    "            writer = csv.writer(f)\n",
    "            writer.writerow(data)    # Write data\n",
    "    else:\n",
    "        print(f\"Failed to retrieve the page. Status code: {page.status_code}\")\n",
    "\n",
    "# Call the function\n",
    "check_price()"
   ]
  },
  {
   "cell_type": "code",
   "execution_count": null,
   "id": "70a1ee3d-2926-4def-ad1f-b54ca9403f36",
   "metadata": {},
   "outputs": [],
   "source": [
    "# Runs check_price after a set time and inputs data into your CSV\n",
    "while(True):\n",
    "    check_price()\n",
    "    time.sleep(86400)"
   ]
  },
  {
   "cell_type": "code",
   "execution_count": null,
   "id": "6517fc41-5093-45fd-9bfa-1b1bfea48f12",
   "metadata": {},
   "outputs": [],
   "source": [
    "import pandas as pd\n",
    "\n",
    "df = pd.read_csv(\"AWSDataset.csv\")\n",
    "\n",
    "print(df)"
   ]
  },
  {
   "cell_type": "code",
   "execution_count": null,
   "id": "24451805-6abd-46f1-96ad-6e9f0312c158",
   "metadata": {},
   "outputs": [],
   "source": [
    "#sending yourself an email when a price hits below a certain level.\n",
    "def send_mail():\n",
    "    server = smtplib.SMTP_SSL('smtp.gmail.com',465)\n",
    "    server.ehlo()\n",
    "    #server.starttls()\n",
    "    server.ehlo()\n",
    "    server.login('Boat.ag089@gmail.com','xxxxxxxxxxxxxx')\n",
    "    \n",
    "    subject = \"The Shirt you want is below $10! Now is your chance to buy!\"\n",
    "    body = \"Boateng, This is the moment we have been waiting for. Now is your chance to pick up the shirt of your dreams. Don't mess it up! Link here: https://www.amazon.com/Funny-Data-Systems-Business-Analyst/dp/B07FNW9FGJ/ref=sr_1_3?dchild=1&keywords=data+analyst+tshirt&qid=1626655184&sr=8-3\"\n",
    "   \n",
    "    msg = f\"Subject: {subject}\\n\\n{body}\"\n",
    "    \n",
    "    server.sendmail(\n",
    "        'Boat.ag089@gmail.com',\n",
    "        msg\n",
    "        \n",
    "    )"
   ]
  }
 ],
 "metadata": {
  "kernelspec": {
   "display_name": "Python 3 (ipykernel)",
   "language": "python",
   "name": "python3"
  },
  "language_info": {
   "codemirror_mode": {
    "name": "ipython",
    "version": 3
   },
   "file_extension": ".py",
   "mimetype": "text/x-python",
   "name": "python",
   "nbconvert_exporter": "python",
   "pygments_lexer": "ipython3",
   "version": "3.12.4"
  }
 },
 "nbformat": 4,
 "nbformat_minor": 5
}
